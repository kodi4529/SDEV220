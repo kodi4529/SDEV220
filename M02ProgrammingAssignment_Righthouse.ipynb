{
 "cells": [
  {
   "cell_type": "code",
   "execution_count": null,
   "id": "4a20e3d9-3eb3-40ca-89c0-ba7cd9d561c6",
   "metadata": {},
   "outputs": [],
   "source": [
    "# Assign values to the variables\n",
    "secret = 7  # You can choose any number between 1 and 10\n",
    "guess = 5   # You can also choose any number between 1 and 10\n",
    "\n",
    "# Conditional tests\n",
    "if guess < secret:\n",
    "    print(\"too low\")\n",
    "elif guess > secret:\n",
    "    print(\"too high\")\n",
    "else:\n",
    "    print(\"just right\")"
   ]
  },
  {
   "cell_type": "code",
   "execution_count": null,
   "id": "2864d499-0b3e-46c9-85c0-fabb094b7748",
   "metadata": {},
   "outputs": [],
   "source": [
    "# Assign values to the variables\n",
    "small = True\n",
    "green = True\n",
    "\n",
    "# Conditional checks for matches\n",
    "if small and green:\n",
    "    print(\"pea\")  # Peas are small and green\n",
    "elif small and not green:\n",
    "    print(\"cherry\")  # Cherries are small but not green\n",
    "elif not small and green:\n",
    "    print(\"watermelon\")  # Watermelons are not small but are green\n",
    "else:\n",
    "    print(\"pumpkin\")  # Pumpkins are neither small nor green"
   ]
  },
  {
   "cell_type": "code",
   "execution_count": null,
   "id": "003549dd-f171-43da-8b74-4b422c290928",
   "metadata": {},
   "outputs": [],
   "source": [
    "# Define the list\n",
    "values = [3, 2, 1, 0]\n",
    "\n",
    "# Use a for loop to print each value\n",
    "for value in values:\n",
    "    print(value)"
   ]
  },
  {
   "cell_type": "code",
   "execution_count": null,
   "id": "a1004bf8-e9b1-4662-8448-f543f6d35104",
   "metadata": {},
   "outputs": [],
   "source": [
    "# Assign values to the variables\n",
    "guess_me = 7\n",
    "number = 1\n",
    "\n",
    "# While loop with a condition\n",
    "while number <= guess_me + 1:  # Ensure the loop stops when exceeding guess_me\n",
    "    if number < guess_me:\n",
    "        print(\"too low\")\n",
    "    elif number == guess_me:\n",
    "        print(\"found it!\")\n",
    "        break  # Exit the loop when the condition is met\n",
    "    else:\n",
    "        print(\"oops\")\n",
    "        break  # Exit the loop when number exceeds guess_me\n",
    "    number += 1  # Increment number at the end of the loop"
   ]
  }
 ],
 "metadata": {
  "kernelspec": {
   "display_name": "Python 3 (ipykernel)",
   "language": "python",
   "name": "python3"
  },
  "language_info": {
   "codemirror_mode": {
    "name": "ipython",
    "version": 3
   },
   "file_extension": ".py",
   "mimetype": "text/x-python",
   "name": "python",
   "nbconvert_exporter": "python",
   "pygments_lexer": "ipython3",
   "version": "3.12.7"
  }
 },
 "nbformat": 4,
 "nbformat_minor": 5
}
