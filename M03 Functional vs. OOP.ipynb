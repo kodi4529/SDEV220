{
 "cells": [
  {
   "cell_type": "code",
   "execution_count": null,
   "id": "91dc9223-a574-41aa-a43c-794cbdef69b1",
   "metadata": {},
   "outputs": [],
   "source": [
    "def sort_array_of_012(arr):\n",
    "    low = 0\n",
    "    mid = 0\n",
    "    high = len(arr) - 1\n",
    "\n",
    "    while mid <= high:\n",
    "        if arr[mid] == 0:\n",
    "            arr[low], arr[mid] = arr[mid], arr[low]\n",
    "            low += 1\n",
    "            mid += 1\n",
    "        elif arr[mid] == 1:\n",
    "            mid += 1\n",
    "        else:\n",
    "            arr[mid], arr[high] = arr[high], arr[mid]\n",
    "            high -= 1"
   ]
  },
  {
   "cell_type": "code",
   "execution_count": null,
   "id": "ea60ac77-cede-4f0f-a767-559b88cc0c6e",
   "metadata": {},
   "outputs": [],
   "source": [
    "def binary_search(arr, k):\n",
    "    left, right = 0, len(arr) - 1\n",
    "    result = -1\n",
    "    while left <= right:\n",
    "        mid = left + (right - left) // 2\n",
    "        if arr[mid] == k:\n",
    "            result = mid\n",
    "            right = mid - 1  # Continue searching in the left half\n",
    "        elif arr[mid] < k:\n",
    "            left = mid + 1\n",
    "        else:\n",
    "            right = mid - 1\n",
    "    return result\n",
    "\n",
    "# Examples\n",
    "print(binary_search([1, 2, 3, 4, 5], 4))  # Output: 3\n",
    "print(binary_search([11, 22, 33, 44, 55], 445))  # Output: -1\n",
    "print(binary_search([1, 1, 1, 1, 2], 1))  # Output: 0"
   ]
  }
 ],
 "metadata": {
  "kernelspec": {
   "display_name": "Python 3 (ipykernel)",
   "language": "python",
   "name": "python3"
  },
  "language_info": {
   "codemirror_mode": {
    "name": "ipython",
    "version": 3
   },
   "file_extension": ".py",
   "mimetype": "text/x-python",
   "name": "python",
   "nbconvert_exporter": "python",
   "pygments_lexer": "ipython3",
   "version": "3.12.7"
  }
 },
 "nbformat": 4,
 "nbformat_minor": 5
}
