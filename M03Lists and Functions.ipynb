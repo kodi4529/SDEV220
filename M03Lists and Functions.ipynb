{
 "cells": [
  {
   "cell_type": "code",
   "execution_count": 3,
   "id": "f9a9ce69-168f-4eae-952d-bb8c22b25871",
   "metadata": {},
   "outputs": [
    {
     "name": "stdout",
     "output_type": "stream",
     "text": [
      "List of things: ['mozzarella', 'cinderella', 'salmonella']\n"
     ]
    }
   ],
   "source": [
    "# Create a list called things with the specified elements\n",
    "things = [\"mozzarella\", \"cinderella\", \"salmonella\"]\n",
    "\n",
    "# Print the list to verify\n",
    "print(\"List of things:\", things)"
   ]
  },
  {
   "cell_type": "code",
   "execution_count": 4,
   "id": "4efd6f26-cfd8-4075-b2aa-19ea614009d5",
   "metadata": {},
   "outputs": [
    {
     "name": "stdout",
     "output_type": "stream",
     "text": [
      "List of things: ['mozzarella', 'Cinderella', 'salmonella']\n"
     ]
    }
   ],
   "source": [
    "# Create a list called things with the specified elements\n",
    "things = [\"mozzarella\", \"Cinderella\", \"salmonella\"]\n",
    "\n",
    "# Print the list to verify\n",
    "print(\"List of things:\", things)\n",
    "# This capitalized the name Cinderella"
   ]
  },
  {
   "cell_type": "code",
   "execution_count": 5,
   "id": "a7a5f243-3f81-4327-b124-1fac5bba1392",
   "metadata": {},
   "outputs": [
    {
     "name": "stdout",
     "output_type": "stream",
     "text": [
      "List of things: ['MOZZARELLA', 'Cinderella', 'salmonella']\n"
     ]
    }
   ],
   "source": [
    "# Create a list called things with the specified elements\n",
    "things = [\"MOZZARELLA\", \"Cinderella\", \"salmonella\"]\n",
    "\n",
    "# Print the list to verify\n",
    "print(\"List of things:\", things)"
   ]
  },
  {
   "cell_type": "code",
   "execution_count": 7,
   "id": "26b76e4b-21d7-4f90-8db7-9705b0128495",
   "metadata": {},
   "outputs": [
    {
     "name": "stdout",
     "output_type": "stream",
     "text": [
      "List of things: ['MOZZARELLA', 'Cinderella']\n"
     ]
    }
   ],
   "source": [
    "# Create a list called things with the specified elements\n",
    "things = [\"MOZZARELLA\", \"Cinderella\"]\n",
    "\n",
    "# Print the list to verify\n",
    "print(\"List of things:\", things)"
   ]
  },
  {
   "cell_type": "code",
   "execution_count": 8,
   "id": "feed62d0-167a-4118-9c44-637a00909d84",
   "metadata": {},
   "outputs": [],
   "source": [
    "def good():\n",
    "    return ['Harry', 'Ron', 'Hermione']"
   ]
  },
  {
   "cell_type": "code",
   "execution_count": 9,
   "id": "f586340e-d747-4662-a691-f8bd5902c6c6",
   "metadata": {},
   "outputs": [
    {
     "name": "stdout",
     "output_type": "stream",
     "text": [
      "5\n"
     ]
    }
   ],
   "source": [
    "def get_odds():\n",
    "    for number in range(10):\n",
    "        if number % 2 != 0:\n",
    "            yield number\n",
    "\n",
    "# Create the generator\n",
    "odds = get_odds()\n",
    "\n",
    "# Use a for loop to find and print the third value returned\n",
    "count = 0\n",
    "for odd in odds:\n",
    "    count += 1\n",
    "    if count == 3:\n",
    "        print(odd)\n",
    "        break"
   ]
  },
  {
   "cell_type": "code",
   "execution_count": null,
   "id": "301664c8-e50b-4cce-9ccc-ad1357ddcb91",
   "metadata": {},
   "outputs": [],
   "source": []
  }
 ],
 "metadata": {
  "kernelspec": {
   "display_name": "Python 3 (ipykernel)",
   "language": "python",
   "name": "python3"
  },
  "language_info": {
   "codemirror_mode": {
    "name": "ipython",
    "version": 3
   },
   "file_extension": ".py",
   "mimetype": "text/x-python",
   "name": "python",
   "nbconvert_exporter": "python",
   "pygments_lexer": "ipython3",
   "version": "3.12.7"
  }
 },
 "nbformat": 4,
 "nbformat_minor": 5
}
