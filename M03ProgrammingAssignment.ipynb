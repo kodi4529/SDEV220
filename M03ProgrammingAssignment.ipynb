class Vehicle:
    def __init__(self, vehicle_type):
        self.vehicle_type = vehicle_type

class Automobile(Vehicle):
    def __init__(self, vehicle_type, year, make, model, doors, roof):
        super().__init__(vehicle_type)
        self.year = year
        self.make = make
        self.model = model
        self.doors = doors
        self.roof = roof

def main():
    vehicle_type = input("Enter the vehicle type (car, truck, plane, boat, broomstick): ")
    year = input("Enter the year: ")
    make = input("Enter the make: ")
    model = input("Enter the model: ")
    doors = input("Enter the number of doors (2 or 4): ")
    roof = input("Enter the type of roof (solid or sun roof): ")

    vehicle = Automobile(vehicle_type, year, make, model, doors, roof)

    print("\nVehicle Information:")
    print(f"Vehicle type: {vehicle.vehicle_type}")
    print(f"Year: {vehicle.year}")
    print(f"Make: {vehicle.make}")
    print(f"Model: {vehicle.model}")
    print(f"Number of doors: {vehicle.doors}")
    print(f"Type of roof: {vehicle.roof}")

if __name__ == "__main__":
    main()
