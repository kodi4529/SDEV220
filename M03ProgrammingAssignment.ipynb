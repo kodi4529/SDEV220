{
 "cells": [
  {
   "cell_type": "code",
   "execution_count": 1,
   "id": "c525d0c7-50c4-4613-bd54-277aa4716046",
   "metadata": {},
   "outputs": [
    {
     "name": "stdin",
     "output_type": "stream",
     "text": [
      "Enter the year:  2005\n",
      "Enter the make:  toyota\n",
      "Enter the model:  corrala\n",
      "Enter the number of doors (2 or 4):  4\n",
      "Enter the type of roof (solid or sun roof):  solid\n"
     ]
    },
    {
     "name": "stdout",
     "output_type": "stream",
     "text": [
      "\n",
      "Vehicle Information:\n",
      "Vehicle type: car\n",
      "Year: 2005\n",
      "Make: toyota\n",
      "Model: corrala\n",
      "Number of doors: 4\n",
      "Type of roof: solid\n"
     ]
    }
   ],
   "source": [
    "class Vehicle:\n",
    "    def __init__(self, vehicle_type):\n",
    "        self.vehicle_type = vehicle_type\n",
    "\n",
    "class Automobile(Vehicle):\n",
    "    def __init__(self, vehicle_type, year, make, model, doors, roof):\n",
    "        super().__init__(vehicle_type)\n",
    "        self.year = year\n",
    "        self.make = make\n",
    "        self.model = model\n",
    "        self.doors = doors\n",
    "        self.roof = roof\n",
    "\n",
    "def main():\n",
    "    vehicle_type = \"car\"\n",
    "    year = input(\"Enter the year: \")\n",
    "    make = input(\"Enter the make: \")\n",
    "    model = input(\"Enter the model: \")\n",
    "    doors = input(\"Enter the number of doors (2 or 4): \")\n",
    "    roof = input(\"Enter the type of roof (solid or sun roof): \")\n",
    "\n",
    "    car = Automobile(vehicle_type, year, make, model, doors, roof)\n",
    "\n",
    "    print(\"\\nVehicle Information:\")\n",
    "    print(f\"Vehicle type: {car.vehicle_type}\")\n",
    "    print(f\"Year: {car.year}\")\n",
    "    print(f\"Make: {car.make}\")\n",
    "    print(f\"Model: {car.model}\")\n",
    "    print(f\"Number of doors: {car.doors}\")\n",
    "    print(f\"Type of roof: {car.roof}\")\n",
    "\n",
    "if __name__ == \"__main__\":\n",
    "    main()"
   ]
  },
  {
   "cell_type": "code",
   "execution_count": null,
   "id": "45a5c990-f807-407c-99ca-e7b9a533bd2b",
   "metadata": {},
   "outputs": [],
   "source": []
  }
 ],
 "metadata": {
  "kernelspec": {
   "display_name": "Python 3 (ipykernel)",
   "language": "python",
   "name": "python3"
  },
  "language_info": {
   "codemirror_mode": {
    "name": "ipython",
    "version": 3
   },
   "file_extension": ".py",
   "mimetype": "text/x-python",
   "name": "python",
   "nbconvert_exporter": "python",
   "pygments_lexer": "ipython3",
   "version": "3.12.7"
  }
 },
 "nbformat": 4,
 "nbformat_minor": 5
}
