{
 "cells": [
  {
   "cell_type": "code",
   "execution_count": 1,
   "id": "d2f0eed4-9b6e-47ee-9bd2-96d96e699c77",
   "metadata": {},
   "outputs": [
    {
     "name": "stdout",
     "output_type": "stream",
     "text": [
      "Parsed date: 2025-04-24 00:00:00\n"
     ]
    }
   ],
   "source": [
    "from datetime import datetime\n",
    "\n",
    "# Step 1: Write the current date as a string to the file\n",
    "today = datetime.now()\n",
    "today_string = today.strftime(\"%Y-%m-%d\")  # Format date as a string (e.g., \"2025-04-24\")\n",
    "\n",
    "with open(\"today.txt\", \"w\") as file:\n",
    "    file.write(today_string)\n",
    "\n",
    "# Step 2: Read the string from the file\n",
    "with open(\"today.txt\", \"r\") as file:\n",
    "    today_string = file.read()\n",
    "\n",
    "# Step 3: Parse the date from the string\n",
    "parsed_date = datetime.strptime(today_string, \"%Y-%m-%d\")  # Parse date string back to a datetime object\n",
    "print(f\"Parsed date: {parsed_date}\")\n"
   ]
  },
  {
   "cell_type": "code",
   "execution_count": null,
   "id": "309b0714-1d35-4721-b1e4-04d9104afa58",
   "metadata": {},
   "outputs": [],
   "source": [
    "import multiprocessing\n",
    "import time\n",
    "import random\n",
    "from datetime import datetime\n",
    "\n",
    "def process_task():\n",
    "    # Wait for a random number of seconds between 0 and 1\n",
    "    wait_time = random.uniform(0, 1)\n",
    "    time.sleep(wait_time)\n",
    "    # Print the current time\n",
    "    print(f\"Process {multiprocessing.current_process().name} - Current time: {datetime.now()}\")\n",
    "\n",
    "if __name__ == \"__main__\":\n",
    "    # Create three processes\n",
    "    processes = []\n",
    "    for i in range(3):\n",
    "        process = multiprocessing.Process(target=process_task, name=f\"Process-{i+1}\")\n",
    "        processes.append(process)\n",
    "        process.start()\n",
    "\n",
    "    # Wait for all processes to complete\n",
    "    for process in processes:\n",
    "        process.join()\n"
   ]
  }
 ],
 "metadata": {
  "kernelspec": {
   "display_name": "Python 3 (ipykernel)",
   "language": "python",
   "name": "python3"
  },
  "language_info": {
   "codemirror_mode": {
    "name": "ipython",
    "version": 3
   },
   "file_extension": ".py",
   "mimetype": "text/x-python",
   "name": "python",
   "nbconvert_exporter": "python",
   "pygments_lexer": "ipython3",
   "version": "3.12.7"
  }
 },
 "nbformat": 4,
 "nbformat_minor": 5
}
