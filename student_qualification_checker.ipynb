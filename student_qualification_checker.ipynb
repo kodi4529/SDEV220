{
 "cells": [
  {
   "cell_type": "code",
   "execution_count": null,
   "id": "7d727a41-a12c-4856-ac4d-5f92787aa732",
   "metadata": {},
   "outputs": [
    {
     "name": "stdin",
     "output_type": "stream",
     "text": [
      "Enter the student's last name (or 'ZZZ' to quit):  Cameron\n",
      "Enter the student's first name:  Dave\n",
      "Enter the student's GPA:  3.5\n"
     ]
    },
    {
     "name": "stdout",
     "output_type": "stream",
     "text": [
      "Dave Cameron has made the Dean's List!\n",
      "\n"
     ]
    }
   ],
   "source": [
    "# Author: Kodi Righthouse\n",
    "# File Name: student_qualification_checker.py\n",
    "# Description: This app accepts student names and GPAs, and checks if the students qualify for the Dean's List or the Honor Roll.\n",
    "\n",
    "def main():\n",
    "    # Start processing student records\n",
    "    last_name = input(\"Enter the student's last name (or 'ZZZ' to quit): \")\n",
    "    \n",
    "    # Loop while the user does not enter 'ZZZ'\n",
    "    while last_name.upper() != 'ZZZ':\n",
    "        # Ask for the student's first name\n",
    "        first_name = input(\"Enter the student's first name: \")\n",
    "        \n",
    "        # Ask for the student's GPA\n",
    "        gpa = float(input(\"Enter the student's GPA: \"))\n",
    "        \n",
    "        # Check for Dean's List and Honor Roll qualifications\n",
    "        if gpa >= 3.5:\n",
    "            print(f\"{first_name} {last_name} has made the Dean's List!\")\n",
    "        elif gpa >= 3.25:\n",
    "            print(f\"{first_name} {last_name} has made the Honor Roll!\")\n",
    "        else:\n",
    "            print(f\"{first_name} {last_name} does not qualify for the Dean's List or the Honor Roll.\")\n",
    "        \n",
    "        print()  # Add a blank line for better readability\n",
    "        \n",
    "        # Prompt for the next student\n",
    "        last_name = input(\"Enter the student's last name (or 'ZZZ' to quit): \")\n",
    "    \n",
    "    print(\"Exiting the program. Have a great day!\")\n",
    "\n",
    "# Run the app\n",
    "if __name__ == \"__main__\":\n",
    "    main()\n"
   ]
  },
  {
   "cell_type": "code",
   "execution_count": null,
   "id": "6f662352-dc9b-442b-9254-680670b5599e",
   "metadata": {},
   "outputs": [],
   "source": []
  }
 ],
 "metadata": {
  "kernelspec": {
   "display_name": "Python 3 (ipykernel)",
   "language": "python",
   "name": "python3"
  },
  "language_info": {
   "codemirror_mode": {
    "name": "ipython",
    "version": 3
   },
   "file_extension": ".py",
   "mimetype": "text/x-python",
   "name": "python",
   "nbconvert_exporter": "python",
   "pygments_lexer": "ipython3",
   "version": "3.12.7"
  }
 },
 "nbformat": 4,
 "nbformat_minor": 5
}
